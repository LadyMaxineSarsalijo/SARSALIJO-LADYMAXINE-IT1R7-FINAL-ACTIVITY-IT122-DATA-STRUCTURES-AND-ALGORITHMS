{
 "cells": [
  {
   "cell_type": "code",
   "execution_count": 1,
   "id": "baac275f-9579-46f7-aaf1-2a974ba74008",
   "metadata": {},
   "outputs": [
    {
     "name": "stdout",
     "output_type": "stream",
     "text": [
      "This is my learning in Chapter 9 about Graph Introduction\n",
      "The things that I learned in this chapter are the following: \n",
      "\n",
      "A graph is a data structure made up of nodes and edges that is non-linear. The edges are lines or arcs that link any two nodes in the graph, and the nodes are also known as vertices. \n",
      "\n",
      "This chapter also shows the types of graphs such as\n",
      "(1) Undirected Graph-An undirected graph consists of a finite set of nodes and ties connecting them.\n",
      "(2) Weighted Graph-A weighted graph is one in which each edge is given a weight.\n",
      "(3) Directed Graph- A directed graph is a graph made up of connected points called vertices or nodes with all edges pointing from one vertex to the next. \n",
      "\n",
      "I also learned that in representing class using data structure we are going to use TUPLE.\n",
      "\n",
      "This chapter also taught me that Graph can transform edges to list tuples to some other better data structure.\n",
      "and whenever we are going to write a recursive function in a program in graphs, we need to identify and think aboout the simplest case.\n",
      "The simplest case in writing recursive function in graph is the start is the same as the end.\n",
      "These are the things that I learned in this chapter about Graphic Introduction in data stuctures and algorithm.\n"
     ]
    }
   ],
   "source": [
    "print (\"This is my learning in Chapter 9 about Graph Introduction\")\n",
    "print (\"The things that I learned in this chapter are the following: \")\n",
    "print (\"\\nA graph is a data structure made up of nodes and edges that is non-linear. The edges are lines or arcs that link any two nodes in the graph, and the nodes are also known as vertices. \")\n",
    "print (\"\\nThis chapter also shows the types of graphs such as\\n(1) Undirected Graph-An undirected graph consists of a finite set of nodes and ties connecting them.\\n(2) Weighted Graph-A weighted graph is one in which each edge is given a weight.\\n(3) Directed Graph- A directed graph is a graph made up of connected points called vertices or nodes with all edges pointing from one vertex to the next. \")\n",
    "print (\"\\nI also learned that in representing class using data structure we are going to use TUPLE.\")\n",
    "print (\"\\nThis chapter also taught me that Graph can transform edges to list tuples to some other better data structure.\")\n",
    "print (\"and whenever we are going to write a recursive function in a program in graphs, we need to identify and think aboout the simplest case.\")\n",
    "print (\"The simplest case in writing recursive function in graph is the start is the same as the end.\")\n",
    "print (\"These are the things that I learned in this chapter about Graphic Introduction in data stuctures and algorithm.\")"
   ]
  },
  {
   "cell_type": "code",
   "execution_count": 7,
   "id": "dbeb3c8e-d379-41da-a252-d7bac856a245",
   "metadata": {},
   "outputs": [
    {
     "name": "stdout",
     "output_type": "stream",
     "text": [
      "This is my learning in Chapter 10 about Binary Search\n",
      "The things that I learned in this chapter are the following: \n",
      "The video that I watched  taught us what is Binary Search. Binary Search is a fast search algortihm with an O run-time complexity (log n).\n",
      "It also presented the difference of time complexity between Linear Search and Binary Search.\n",
      "\n",
      "(1) Linear Search - time complexity of linear search is an order of n, while;\n",
      "(2) Binary Search - time complexity of binary search is an order of log of n \n",
      "\n",
      "By comparing the middle item in the list, binary search searches for a specific item. If a match is found, the item's index is retrieved. The item is searched in the sub-array to the left of the middle item if the middle item is greater than the item. Otherwise, look for the object in the sub-array to the right of the middle item.\n",
      "\n",
      "Binary search method is much easier than linear search because linear search took 7 iterations and it will consume so much effort to work while binary search will divide the iterations for you to be able to easily get the element to want to search.\n",
      "\n",
      "This topic also gives formula for me to be able to find the middle element and the formula is:\n",
      "\n",
      "mid = low +(high - low)\n",
      "These are the things that I learned in this chapter. \n"
     ]
    }
   ],
   "source": [
    "print (\"This is my learning in Chapter 10 about Binary Search\")\n",
    "print (\"The things that I learned in this chapter are the following: \")\n",
    "print (\"The video that I watched  taught us what is Binary Search. Binary Search is a fast search algortihm with an O run-time complexity (log n).\")\n",
    "print (\"It also presented the difference of time complexity between Linear Search and Binary Search.\\n\")\n",
    "print (\"(1) Linear Search - time complexity of linear search is an order of n, while;\")\n",
    "print (\"(2) Binary Search - time complexity of binary search is an order of log of n \")\n",
    "print (\"\\nBy comparing the middle item in the list, binary search searches for a specific item. If a match is found, the item's index is retrieved. The item is searched in the sub-array to the left of the middle item if the middle item is greater than the item. Otherwise, look for the object in the sub-array to the right of the middle item.\")\n",
    "print (\"\\nBinary search method is much easier than linear search because linear search took 7 iterations and it will consume so much effort to work while binary search will divide the iterations for you to be able to easily get the element to want to search.\")\n",
    "print (\"\\nThis topic also gives formula for me to be able to find the middle element and the formula is:\\n\")\n",
    "print (\"mid = low +(high - low)\" )\n",
    "print (\"These are the things that I learned in this chapter. \")"
   ]
  },
  {
   "cell_type": "code",
   "execution_count": 12,
   "id": "e9a2cb5f-da7b-485b-990c-8bcc107f2281",
   "metadata": {},
   "outputs": [
    {
     "name": "stdout",
     "output_type": "stream",
     "text": [
      "This is my learning in Chapter 11 about Bubble Sort\n",
      "The things that I learned in this chapter are the following:\n",
      "\n",
      "A basic sorting algorithm is bubble sort. This sorting algorithm is a comparison-based algorithm in which each pair of adjacent elements is compared, and if they are not in order, the elements are swapped. Since the average and worst case complexity of this algorithm are (n2), where n is the number of objects, it is not suitable for large data sets.\n",
      "For our example, we will use an unsorted array. We're keeping it short and precise because bubble sort takes O(n2) time.\n",
      "\n",
      "The first two elements of the bubble type are compared to see which one is greater.\n",
      "If the entire array is sorted in ascending order, Bubble Sort compares each pair of array elements. This could lead to some complexity problems, such as what if the array doesn't need any more swapping because all of the elements are ascending.\n",
      "These are the things that I learned in this chapter.\n"
     ]
    }
   ],
   "source": [
    "print (\"This is my learning in Chapter 11 about Bubble Sort\")\n",
    "print (\"The things that I learned in this chapter are the following:\")\n",
    "print (\"\\nA basic sorting algorithm is bubble sort. This sorting algorithm is a comparison-based algorithm in which each pair of adjacent elements is compared, and if they are not in order, the elements are swapped. Since the average and worst case complexity of this algorithm are (n2), where n is the number of objects, it is not suitable for large data sets.\")\n",
    "print (\"For our example, we will use an unsorted array. We're keeping it short and precise because bubble sort takes O(n2) time.\")\n",
    "print (\"\\nThe first two elements of the bubble type are compared to see which one is greater.\")\n",
    "print (\"If the entire array is sorted in ascending order, Bubble Sort compares each pair of array elements. This could lead to some complexity problems, such as what if the array doesn't need any more swapping because all of the elements are ascending.\")\n",
    "print (\"These are the things that I learned in this chapter.\")"
   ]
  },
  {
   "cell_type": "code",
   "execution_count": 16,
   "id": "09887b61-32d6-42ee-b25e-011a7d55f911",
   "metadata": {},
   "outputs": [
    {
     "name": "stdout",
     "output_type": "stream",
     "text": [
      "This is my learning in Chapter 12 about Quick Sort\n",
      "The things that I learned in this chapter are the following:\n",
      "\n",
      "Quick sort is a sorting algorithm that divides a large array of data into smaller arrays. A large array is partitioned into two arrays, one of which contains values smaller than the stated value, say pivot, on which the partition is made, and the other of which contains values greater than the pivot value.\n",
      "\n",
      "Quick sort divides an array into two subarrays and then calls itself recursively twice to filter the two subarrays. Since the average and worst-case complexity of this algorithm are O(n2), it is very useful for large data sets.\n",
      "The list is divided into two sections by the pivot value. We find the pivot for each sub-list in a recursive manner until all sub-lists have only one element.\n",
      "We get smaller possible partitions by recursively applying the pivot algorithm. Following that, each partition is processed for fast sorting. The following is the description of a recursive quicksort algorithm:\n",
      "\n",
      "Step 1: Pivot the index value on the right-hand side.\n",
      "Step 2: Use the pivot value to divide the list.\n",
      "Step 3: Recursively sort the left partition\n",
      "Step 4: Recursively sort the right partition\n",
      "These are the things that I learned in this chapter\n"
     ]
    }
   ],
   "source": [
    "print (\"This is my learning in Chapter 12 about Quick Sort\")\n",
    "print (\"The things that I learned in this chapter are the following:\")\n",
    "print (\"\\nQuick sort is a sorting algorithm that divides a large array of data into smaller arrays. A large array is partitioned into two arrays, one of which contains values smaller than the stated value, say pivot, on which the partition is made, and the other of which contains values greater than the pivot value.\")\n",
    "print (\"\\nQuick sort divides an array into two subarrays and then calls itself recursively twice to filter the two subarrays. Since the average and worst-case complexity of this algorithm are O(n2), it is very useful for large data sets.\")\n",
    "print (\"The list is divided into two sections by the pivot value. We find the pivot for each sub-list in a recursive manner until all sub-lists have only one element.\")\n",
    "print (\"We get smaller possible partitions by recursively applying the pivot algorithm. Following that, each partition is processed for fast sorting. The following is the description of a recursive quicksort algorithm:\")\n",
    "print (\"\\nStep 1: Pivot the index value on the right-hand side.\")\n",
    "print (\"Step 2: Use the pivot value to divide the list.\")\n",
    "print (\"Step 3: Recursively sort the left partition\")\n",
    "print (\"Step 4: Recursively sort the right partition\")\n",
    "print (\"These are the things that I learned in this chapter\")\n"
   ]
  },
  {
   "cell_type": "code",
   "execution_count": 1,
   "id": "d7f2ea19-317b-4696-b2f3-256fa55ad7ee",
   "metadata": {},
   "outputs": [
    {
     "name": "stdout",
     "output_type": "stream",
     "text": [
      "This is my learning in Chapter 13 about Insertion Sort\n",
      "The things that I learned in this chapter are the following:\n",
      "\n",
      "This is a sorting algorithm that uses in-place comparisons. A sub-list is held here that is always sorted. The lower part of an array, for example, is held to be sorted. An element that needs to be 'inserted' into this sorted sub-list must first locate its proper location before being inserted. As a result, the term \"insertion type\" was coined.\n",
      "Unsorted objects are transferred and placed into the sorted sub-list in a sequential search of the collection (in the same array). Since the average and worst case complexity of this algorithm, where n is the number of objects, it is not suitable for large data sets.\n",
      "\n",
      "This is the step by step process to achieve insertion sort\n",
      "First, it is already sorted if it is the first variable, you have to return 1.\n",
      "Second, you need to pick new element.\n",
      "Third, compare with all elements in the sorted sub-list.\n",
      "Fourth, shift all the elements in the sorted sub-list that is greater than the value to be sorted.\n",
      "Fifth, insert the value.\n",
      "Lastly, repeat until list is sorted\n",
      "That were the things that I learned in this chapter\n"
     ]
    }
   ],
   "source": [
    "print (\"This is my learning in Chapter 13 about Insertion Sort\")\n",
    "print (\"The things that I learned in this chapter are the following:\")\n",
    "print (\"\\nThis is a sorting algorithm that uses in-place comparisons. A sub-list is held here that is always sorted. The lower part of an array, for example, is held to be sorted. An element that needs to be 'inserted' into this sorted sub-list must first locate its proper location before being inserted. As a result, the term \\\"insertion type\\\" was coined.\")\n",
    "print (\"Unsorted objects are transferred and placed into the sorted sub-list in a sequential search of the collection (in the same array). Since the average and worst case complexity of this algorithm, where n is the number of objects, it is not suitable for large data sets.\")\n",
    "print (\"\\nThis is the step by step process to achieve insertion sort\")\n",
    "print (\"First, it is already sorted if it is the first variable, you have to return 1.\")\n",
    "print (\"Second, you need to pick new element.\")\n",
    "print (\"Third, compare with all elements in the sorted sub-list.\")\n",
    "print (\"Fourth, shift all the elements in the sorted sub-list that is greater than the value to be sorted.\")\n",
    "print (\"Fifth, insert the value.\")\n",
    "print (\"Lastly, repeat until list is sorted\")\n",
    "print (\"That were the things that I learned in this chapter\")"
   ]
  },
  {
   "cell_type": "code",
   "execution_count": 4,
   "id": "5684bd0e-da37-42d4-86a6-8369fdf5afd4",
   "metadata": {},
   "outputs": [
    {
     "name": "stdout",
     "output_type": "stream",
     "text": [
      "This is my learning in Chapter 14 Merge Sort\n",
      "The things that I learned in this chapter are the following:\n",
      "\n",
      "Merge sorting is a divide-and-conquer sorting process. It is one of the most well-known algorithms, with a worst-case time complexity of O(n log n).Merge sort splits the list into equal halves before sorting them together.\n",
      "\n",
      "Merge sort divides the list into equal halves until there is no more space for division. The list is sorted by default if it contains only one element. Merge sort then blends the smaller sorted lists while still sorting the new list.\n",
      "This is what Merge Sort Algorithm looks like:\n",
      "Step 1 − if it is only one element in the list it is already sorted, return.\n",
      "Step 2 − divide the list recursively into two halves until it can no more be divided.\n",
      "Step 3 − merge the smaller lists into new list in sorted order.\n",
      "\n",
      "Shown above are the things that I learned in this chapter.\n"
     ]
    }
   ],
   "source": [
    "print (\"This is my learning in Chapter 14 about Merge Sort\")\n",
    "print (\"The things that I learned in this chapter are the following:\")\n",
    "print (\"\\nMerge sorting is a divide-and-conquer sorting process. It is one of the most well-known algorithms, with a worst-case time complexity of O(n log n).Merge sort splits the list into equal halves before sorting them together.\")\n",
    "print (\"\\nMerge sort divides the list into equal halves until there is no more space for division. The list is sorted by default if it contains only one element. Merge sort then blends the smaller sorted lists while still sorting the new list.\")\n",
    "print (\"This is what Merge Sort Algorithm looks like:\")\n",
    "print (\"Step 1 − if it is only one element in the list it is already sorted, return.\")\n",
    "print (\"Step 2 − divide the list recursively into two halves until it can no more be divided.\")\n",
    "print (\"Step 3 − merge the smaller lists into new list in sorted order.\")\n",
    "print (\"\\nShown above are the things that I learned in this chapter.\")"
   ]
  },
  {
   "cell_type": "code",
   "execution_count": 8,
   "id": "45aa9a27-3e89-47f7-8f90-36372139f48e",
   "metadata": {},
   "outputs": [
    {
     "name": "stdout",
     "output_type": "stream",
     "text": [
      "This is my learning in Chapter 15 about Shell Sort.\n",
      "The things that I learned in this chapter are the following:\n",
      "\n",
      "Shell sort is a sorting algorithm based on the insertion sort algorithm that is extremely efficient. When the smaller value is on the far right and needs to be shifted to the far left, this algorithm avoids massive changes, as in insertion sort.This algorithm sorts widely spaced elements first, then the less widely spaced elements using insertion sort. Interval is the name given to this spacing.\n",
      "Based on Knuth's formula, this interval is determined as:\n",
      "\n",
      "h = h * 3 + 1\n",
      "where −\n",
      "\th is interval with initial value 1\n",
      "Since the average and worst-case complexity of this algorithm are dependent on the gap series, the best known is O(n), where n is the number of objects. This algorithm is very effective for medium-sized data sets. The worst-case complexity of space is O. (n).\n",
      "Stated above are the things that I learned in this chapter.\n"
     ]
    }
   ],
   "source": [
    "print (\"This is my learning in Chapter 15 about Shell Sort.\")\n",
    "print (\"The things that I learned in this chapter are the following:\")\n",
    "print (\"\\nShell sort is a sorting algorithm based on the insertion sort algorithm that is extremely efficient. When the smaller value is on the far right and needs to be shifted to the far left, this algorithm avoids massive changes, as in insertion sort.This algorithm sorts widely spaced elements first, then the less widely spaced elements using insertion sort. Interval is the name given to this spacing.\")\n",
    "print (\"Based on Knuth's formula, this interval is determined as:\\n\")\n",
    "print (\"h = h * 3 + 1\\nwhere −\\n\\th is interval with initial value 1\")\n",
    "print (\"Since the average and worst-case complexity of this algorithm are dependent on the gap series, the best known is O(n), where n is the number of objects. This algorithm is very effective for medium-sized data sets. The worst-case complexity of space is O. (n).\")\n",
    "print (\"Stated above are the things that I learned in this chapter.\")"
   ]
  },
  {
   "cell_type": "code",
   "execution_count": 11,
   "id": "09d1aa63-43df-45fe-9419-dd06e09b31dd",
   "metadata": {},
   "outputs": [
    {
     "name": "stdout",
     "output_type": "stream",
     "text": [
      "This is my learning in Chapter 16 about Selection Sort.\n",
      "The things that I learned in this chapter are the following:\n",
      "\n",
      "A basic sorting algorithm is the selection sort. This sorting algorithm uses an in-place comparison to divide the list into two sections, with the sorted part on the left and the unsorted part on the right. The sorted section is initially blank, while the unsorted section contains the entire list.\n",
      "\n",
      "From the unsorted array, the smallest element is chosen and switched with the leftmost element, resulting in that element being a member of the sorted array. This process keeps shifting the unsorted array's boundary to the right by one element.\n",
      "The average and worst case complications of this algorithm are O(n2), where n is the number of objects, making it unsuitable for large data sets.\n",
      "This is how Selection Sort's Algorithm works:\n",
      "\n",
      "Step 1 − Set MIN to location 0.\n",
      "Step 2 − Search the minimum element in the list\n",
      "Step 3 − Swap with value at location MIN\n",
      "Step 4 − Increment MIN to point to next element\n",
      "Step 5 − Repeat until list is sorted\n",
      "The things that I stated above are the learnings that I learned in this topic.\n"
     ]
    }
   ],
   "source": [
    "print (\"This is my learning in Chapter 16 about Selection Sort.\")\n",
    "print (\"The things that I learned in this chapter are the following:\")\n",
    "print (\"\\nA basic sorting algorithm is the selection sort. This sorting algorithm uses an in-place comparison to divide the list into two sections, with the sorted part on the left and the unsorted part on the right. The sorted section is initially blank, while the unsorted section contains the entire list.\")\n",
    "print (\"\\nFrom the unsorted array, the smallest element is chosen and switched with the leftmost element, resulting in that element being a member of the sorted array. This process keeps shifting the unsorted array's boundary to the right by one element.\")\n",
    "print (\"The average and worst case complications of this algorithm are O(n2), where n is the number of objects, making it unsuitable for large data sets.\")\n",
    "print (\"This is how Selection Sort's Algorithm works:\\n\")\n",
    "print (\"Step 1 − Set MIN to location 0.\")\n",
    "print (\"Step 2 − Search the minimum element in the list\")\n",
    "print (\"Step 3 − Swap with value at location MIN\")\n",
    "print (\"Step 4 − Increment MIN to point to next element\")\n",
    "print (\"Step 5 − Repeat until list is sorted\")\n",
    "print (\"The things that I stated above are the learnings that I learned in this topic.\")"
   ]
  },
  {
   "cell_type": "code",
   "execution_count": 14,
   "id": "dbfac709-0471-4cf3-8b25-aaeb656e2175",
   "metadata": {},
   "outputs": [
    {
     "name": "stdout",
     "output_type": "stream",
     "text": [
      "This is my learning in Chapter 17 about Simple Explanation of Recursion or Recursion Python.\n",
      "The things that I learned in this chapter are the following:\n",
      "\n",
      "Recursion is a problem-solving technique in which you solve smaller parts of the problem before you reach the larger one. If a process or function can call itself, it's referred to as recursive.\n",
      "A function can call itself via recursion. For and new value, the same fixed steps of code are executed. We must also provide standards for determining when the recursive call should be terminated. A recursive approach to binary search is seen in the following example. The recursive function is given a sorted list and its index range as input.\n",
      "\n",
      "Stated above are the things that this chapter taught me and I learned something from it.\n"
     ]
    }
   ],
   "source": [
    "print (\"This is my learning in Chapter 17 about Simple Explanation of Recursion or Recursion Python.\")\n",
    "print (\"The things that I learned in this chapter are the following:\")\n",
    "print (\"\\nRecursion is a problem-solving technique in which you solve smaller parts of the problem before you reach the larger one. If a process or function can call itself, it's referred to as recursive.\")\n",
    "print (\"A function can call itself via recursion. For and new value, the same fixed steps of code are executed. We must also provide standards for determining when the recursive call should be terminated. A recursive approach to binary search is seen in the following example. The recursive function is given a sorted list and its index range as input.\")\n",
    "print (\"\\nStated above are the things that this chapter taught me and I learned something from it.\")"
   ]
  },
  {
   "cell_type": "code",
   "execution_count": 12,
   "id": "5bd88b87-57d3-4764-a313-38dea7240f0c",
   "metadata": {},
   "outputs": [
    {
     "name": "stdout",
     "output_type": "stream",
     "text": [
      "This is my fraction:  5/6\n",
      "This is the numerator:  5\n",
      "This is the denominator:  6\n"
     ]
    }
   ],
   "source": [
    "#PART 2 \n",
    "#NUMBER 1: Implement the simple methods get_num and get_den that will return the numerator and denominator of a fraction.\n",
    "\n",
    "class Fraction:\n",
    "\n",
    "    def __init__(self, numerator, denominator):\n",
    "\n",
    "        self.num = numerator       \n",
    "        self.den = denominator \n",
    "\n",
    "    def __str__(self):\n",
    "        return str(self.num) + \"/\" + str(self.den)\n",
    "\n",
    "    def get_num(self):\n",
    "        return self.num\n",
    "\n",
    "    def get_den(self):\n",
    "        return self.den\n",
    "\n",
    "my_fraction = Fraction(5, 6)\n",
    "print (\"This is my fraction: \",my_fraction)\n",
    "\n",
    "print (\"This is the numerator: \",my_fraction.get_num())\n",
    "print (\"This is the denominator: \",my_fraction.get_den())"
   ]
  },
  {
   "cell_type": "code",
   "execution_count": 2,
   "id": "01ef166e-24a7-4e37-90f6-57a7339a8b25",
   "metadata": {},
   "outputs": [
    {
     "name": "stdout",
     "output_type": "stream",
     "text": [
      "Research the __radd__ method. How does it differ from __add__? When is it used? Implement __radd__\n",
      "\n",
      "Assume you're running a class that requires operator overloading to behave like a number. So you run __add__ in your class, and now expressions like object+ 4 will work as expected and produce a result. This is because object + 4 is decoded as object. add (4), and your custom method can add 4 to your custom class in any way it wants.\n",
      "The 4 is an instance of a Python that has been sorted, and its __add__ method has no knowledge of your new type, so it will restore a specific esteem. Currently unimplemented.\n",
      "Implementation of __raad__\n",
      "\n",
      "Output:\n",
      "C.__radd__ <__main__.C object at 0x000001F5FFD477F0> 1\n",
      "reversed result\n",
      "\n",
      "NotImplemented\n",
      "NotImplemented\n",
      "\n",
      "Based on my observation __raad__ can't be executed id __add__ doesn't exist.\n"
     ]
    }
   ],
   "source": [
    "#Part 2\n",
    "print (\"Research the __radd__ method. How does it differ from __add__? When is it used? Implement __radd__\")\n",
    "\n",
    "print (\"\\nAssume you're running a class that requires operator overloading to behave like a number. So you run __add__ in your class, and now expressions like object+ 4 will work as expected and produce a result. This is because object + 4 is decoded as object. add (4), and your custom method can add 4 to your custom class in any way it wants.\")\n",
    "print (\"The 4 is an instance of a Python that has been sorted, and its __add__ method has no knowledge of your new type, so it will restore a specific esteem. Currently unimplemented.\")\n",
    "print (\"Implementation of __raad__\\n\\nOutput:\")\n",
    "class C:  \n",
    "  def __add__(self, other):\n",
    "    print(\"C.__add__\", self, other)\n",
    "    return \"result\"  \n",
    "  def __radd__(self, other):\n",
    "    print(\"C.__radd__\", self, other)    \n",
    "    return \"reversed result\"\n",
    "\n",
    "c = C()\n",
    "print(1+c)\n",
    "print()\n",
    "print(1 .__add__(c))\n",
    "print(int.__add__(1,c))\n",
    "\n",
    "print (\"\\nBased on my observation __raad__ can't be executed id __add__ doesn't exist.\")"
   ]
  },
  {
   "cell_type": "code",
   "execution_count": 5,
   "id": "64fb8872-15dc-4140-a6a0-a7f292b1db30",
   "metadata": {},
   "outputs": [
    {
     "name": "stdout",
     "output_type": "stream",
     "text": [
      "Research the __repr__ method. How does it differ from __str__? When is it used? Implement __repr__.\n",
      "\n",
      "__str__ \"computes the \"informal\" string representation of an object. This differs from __repr__ in that it does not have to be a valid Python expression: a more convenient or concise representation may be used instead.\n",
      "\n",
      "Output:\n",
      " \n",
      "Instance Name of class User\n"
     ]
    }
   ],
   "source": [
    "#Part 2\n",
    "print (\"Research the __repr__ method. How does it differ from __str__? When is it used? Implement __repr__.\")\n",
    "print (\"\\n__str__ \\\"computes the \\\"informal\\\" string representation of an object. This differs from __repr__ in that it does not have to be a valid Python expression: a more convenient or concise representation may be used instead.\")\n",
    "print (\"\\nOutput:\\n \")\n",
    "class User:\n",
    "    def __init__(self, name):\n",
    "        self.user_name = name\n",
    "    def __repr__(self):\n",
    "        return \"Instance {} of class User\".format(self.user_name)\n",
    "\n",
    "a = User('Name')\n",
    "\n",
    "print(a)\n"
   ]
  },
  {
   "cell_type": "code",
   "execution_count": 6,
   "id": "2871865c-be74-45b8-9af1-8e532b379f31",
   "metadata": {},
   "outputs": [
    {
     "name": "stdout",
     "output_type": "stream",
     "text": [
      "The most simple arithmetic circuit is known as the half adder. Research the simple half-adder circuit. Implement this circuit.\n",
      "\n",
      "Output:\n",
      "\n",
      "The SUM is:   88\n",
      "CARRY is:     36\n"
     ]
    }
   ],
   "source": [
    "#Part 2\n",
    "print (\"The most simple arithmetic circuit is known as the half adder. Research the simple half-adder circuit. Implement this circuit.\")\n",
    "print (\"\\nOutput:\\n\")\n",
    "def getResult(X, Y):\n",
    "\tSum = X ^ Y\n",
    "\tCarry = X & Y\n",
    "\tprint(\"The SUM is:  \", Sum)\n",
    "\tprint(\"CARRY is:    \", Carry)\n",
    "\n",
    "X = 100\n",
    "Y = 60\n",
    "getResult(X, Y)"
   ]
  },
  {
   "cell_type": "code",
   "execution_count": 8,
   "id": "4a62f88d-e2fe-4f90-9d9c-e16303bd3f86",
   "metadata": {},
   "outputs": [
    {
     "name": "stdout",
     "output_type": "stream",
     "text": [
      "Design a class to represent a playing card and another one to represent a deck of cards. Using these two classes, implement your favorite card game.\n"
     ]
    }
   ],
   "source": [
    "#Part 2\n",
    "print (\"Design a class to represent a playing card and another one to represent a deck of cards. Using these two classes, implement your favorite card game.\")\n",
    "class Card(object):\n",
    "    \"\"\" Represents a standard playing card.\n",
    "    Attributes:\n",
    "        suit: Integer 0-3\n",
    "        rank: Integer 1-13\n",
    "    \"\"\"\n",
    "\n",
    "    suitnames = [\"Clubs\", \"Diamonds\", \"Hearts\", \"Spades\"]\n",
    "    ranknames = [None, \"2\", \"3\", \"4\", \"5\", \"6\", \"7\", \"8\",\n",
    "                  \"9\", \"10\", \"Jack\", \"Queen\", \"King\", \"Ace\"]\n",
    "\n",
    "    def __init__(self, suit=0, rank=1):\n",
    "        self.suit = suit\n",
    "        self.rank = rank\n",
    "\n",
    "    def __str__(self):\n",
    "        \"\"\" returns a human readable string representation \"\"\"\n",
    "        return '%s of %s' % (Card.ranknames[self.rank],\n",
    "                             Card.suitnames[self.suit])\n",
    "\n",
    "    def __lt__(self, other):\n",
    "        \"\"\" Compares this card to other, only by rank (no suit comparison)\n",
    "        Returns a positive number if this > other, negative otherwise.\n",
    "        Returns 0 if the cards are of same rank\n",
    "        \"\"\"\n",
    "        # t1 = self.rank\n",
    "        # t2 = other.rank\n",
    "        t1 = self.suit, self.rank\n",
    "        t2 = other.suit, other.rank\n",
    "        return t1 < t2\n",
    "\n",
    "    def getRank(self):\n",
    "        return self.rank"
   ]
  },
  {
   "cell_type": "code",
   "execution_count": 10,
   "id": "ee931aba-ff03-40f4-b2c3-c653b7207699",
   "metadata": {},
   "outputs": [
    {
     "name": "stdout",
     "output_type": "stream",
     "text": [
      "Design and implement an experiment to do benchmark comparisons of the two queue(enqueue,dequeue) implementations. What can you learn from such an experiment?\n",
      "\n",
      "Output:\n",
      "\n",
      "<__main__.Queue object at 0x000001F5FFD06790>\n",
      "deque(['Keily', 'Potter', 'Ronan'])\n",
      "Adding to the right: \n",
      "deque(['Keily', 'Potter', 'Ronan', 'Carmen'])\n",
      "Adding to the left: \n",
      "deque(['Prince', 'Keily', 'Potter', 'Ronan', 'Carmen'])\n",
      "Removing from the right: \n",
      "deque(['Prince', 'Keily', 'Potter', 'Ronan'])\n",
      "Removing from the left: \n",
      "deque(['Keily', 'Potter', 'Ronan'])\n",
      "Reversing the deque: \n",
      "deque(['Ronan', 'Potter', 'Keily'])\n"
     ]
    }
   ],
   "source": [
    "#Part 2\n",
    "print (\"Design and implement an experiment to do benchmark comparisons of the two queue(enqueue,dequeue) implementations. What can you learn from such an experiment?\")\n",
    "print (\"\\nOutput:\\n\")\n",
    "\n",
    "class Queue:\n",
    " \n",
    "  def __init__(self):\n",
    "      self.queue = list()\n",
    " \n",
    "  def addToQueue(self,value):\n",
    "# Insert method to add element\n",
    "      if value not in self.queue:\n",
    "          self.queue.insert(0,value)\n",
    "          return True\n",
    "      return False\n",
    " \n",
    "  def size(self):\n",
    "      return len(self.queue)\n",
    " \n",
    "Name = Queue()\n",
    "Name.addToQueue(\"Lady\")\n",
    "Name.addToQueue(\"Maxine\")\n",
    "Name.addToQueue(\"Ashley\")\n",
    "Name.addToQueue(\"Jane\")\n",
    "Name.addToQueue(\"Analiza\")\n",
    "print(Name)\n",
    "\n",
    "import collections\n",
    " \n",
    "# Create a deque\n",
    "DoubleEnded = collections.deque([\"Keily\",\"Potter\",\"Ronan\"])\n",
    "print (DoubleEnded)\n",
    " \n",
    "# Append to the right\n",
    "print(\"Adding to the right: \")\n",
    "DoubleEnded.append(\"Carmen\")\n",
    "print (DoubleEnded)\n",
    " \n",
    "# append to the left\n",
    "print(\"Adding to the left: \")\n",
    "DoubleEnded.appendleft(\"Prince\")\n",
    "print (DoubleEnded)\n",
    " \n",
    "# Remove from the right\n",
    "print(\"Removing from the right: \")\n",
    "DoubleEnded.pop()\n",
    "print (DoubleEnded)\n",
    " \n",
    "# Remove from the left\n",
    "print(\"Removing from the left: \")\n",
    "DoubleEnded.popleft()\n",
    "print (DoubleEnded)\n",
    " \n",
    "# Reverse the dequeue\n",
    "print(\"Reversing the deque: \")\n",
    "DoubleEnded.reverse()\n",
    "print (DoubleEnded)\n"
   ]
  },
  {
   "cell_type": "code",
   "execution_count": 31,
   "id": "4aafcaf9-b45d-4717-946a-7d41d47a2c36",
   "metadata": {},
   "outputs": [
    {
     "name": "stdout",
     "output_type": "stream",
     "text": [
      "Consider a real life situation. Formulate a question and then design a simulation that can help to answer it.\n",
      "\n",
      "Airplanes taking off and landing on a runway. How will you handle yourself if you panicked in the airplane?\n",
      "• Stay Calm. Inhale and Exhale.\n",
      "• If circumstances happen, breathe and follow the procedures instructed by the crews.\n",
      "• Pray.\n",
      "• Follow safety protocols.\n"
     ]
    }
   ],
   "source": [
    "#Part 2\n",
    "print (\"Consider a real life situation. Formulate a question and then design a simulation that can help to answer it.\")\n",
    "print (\"\\nAirplanes taking off and landing on a runway. How will you handle yourself if you panicked in the airplane?\")\n",
    "print (\"• Stay Calm. Inhale and Exhale.\")\n",
    "print (\"• If circumstances happen, breathe and follow the procedures instructed by the crews.\")\n",
    "print (\"• Pray.\")\n",
    "print (\"• Follow safety protocols.\")"
   ]
  },
  {
   "cell_type": "code",
   "execution_count": 11,
   "id": "bdcb7cd7-51b3-41a1-b6e3-8baae57be743",
   "metadata": {},
   "outputs": [
    {
     "name": "stdout",
     "output_type": "stream",
     "text": [
      "Implement a queue using linked lists.\n",
      "\n",
      "Output:\n",
      "\n",
      "['Lady', 'Maxine', 'Yarra', 'Sarsalijo', 'Cuambot', '19']\n",
      "Lady\n",
      "['Maxine', 'Yarra', 'Sarsalijo', 'Cuambot', '19']\n",
      "Maxine\n",
      "['Yarra', 'Sarsalijo', 'Cuambot', '19']\n"
     ]
    }
   ],
   "source": [
    "#Part 2\n",
    "print (\"Implement a queue using linked lists.\")\n",
    "print (\"\\nOutput:\\n\")\n",
    "queue = [\"Lady\", \"Maxine\", \"Yarra\",\"Sarsalijo\"]\n",
    "queue.append(\"Cuambot\")\n",
    "queue.append(\"19\")\n",
    "print(queue)\n",
    "  \n",
    "# Removes the first item\n",
    "print(queue.pop(0))\n",
    "  \n",
    "print(queue)\n",
    "  \n",
    "# Removes the first item\n",
    "print(queue.pop(0))\n",
    "  \n",
    "print(queue)\n"
   ]
  },
  {
   "cell_type": "code",
   "execution_count": 13,
   "id": "acdb5382-1e8f-4e99-9ab9-ce4bc3db6635",
   "metadata": {},
   "outputs": [
    {
     "name": "stdout",
     "output_type": "stream",
     "text": [
      "Write a recursive function to compute the factorial of a number.\n",
      "\n",
      "Output:\n",
      "\n",
      "The factorial of 10 is 3628800\n"
     ]
    }
   ],
   "source": [
    "#Part 2\n",
    "print (\"Write a recursive function to compute the factorial of a number.\")\n",
    "print (\"\\nOutput:\\n\")\n",
    "def recursion_factorial (n):\n",
    "   if n == 1:\n",
    "       return n\n",
    "   else:\n",
    "       return n*recursion_factorial(n-1)\n",
    "\n",
    "num = 10\n",
    "\n",
    "\n",
    "print(\"The factorial of\", num, \"is\", recursion_factorial(num))"
   ]
  },
  {
   "cell_type": "code",
   "execution_count": 19,
   "id": "3f4610f5-fc1e-4fa3-a651-601686d03ecf",
   "metadata": {},
   "outputs": [
    {
     "name": "stdout",
     "output_type": "stream",
     "text": [
      "Set up a random experiment to test the difference between a sequential search and a binary search on a list of integers.\n",
      "\n",
      "Output:\n",
      "\n",
      "Element is present at index 4\n",
      "(True, 3)\n"
     ]
    }
   ],
   "source": [
    "#Part 2\n",
    "print (\"Set up a random experiment to test the difference between a sequential search and a binary search on a list of integers.\")\n",
    "print (\"\\nOutput:\\n\")\n",
    "def binarySearch(arr, low, high, x):\n",
    " \n",
    "    # Check base case\n",
    "    if high >= low:\n",
    " \n",
    "        mid = (high + low) // 2\n",
    " \n",
    "        # If element is present at the middle itself\n",
    "        if arr[mid] == x:\n",
    "            return mid\n",
    " \n",
    "        # If element is smaller than mid, then it can only\n",
    "        # be present in left subarray\n",
    "        elif arr[mid] > x:\n",
    "            return binarySearch(arr, low, mid - 1, x)\n",
    " \n",
    "        # Else the element can only be present in right subarray\n",
    "        else:\n",
    "            return binarySearch(arr, mid + 1, high, x)\n",
    " \n",
    "    else:\n",
    "        # Element is not present in the array\n",
    "        return -1\n",
    " \n",
    "# Test array\n",
    "arr = [ 1, 2,3, 5, 60 ]\n",
    "x = 60\n",
    " \n",
    "# Function call\n",
    "result = binarySearch(arr, 0, len(arr)-1, x)\n",
    " \n",
    "if result != -1:\n",
    "    print(\"Element is present at index\", str(result))\n",
    "else:\n",
    "    print(\"Element is not present in array\")\n",
    "\n",
    "\n",
    "def Sequential_Search(dlist, item):\n",
    "\n",
    "    pos = 0\n",
    "    found = False\n",
    "    \n",
    "    while pos < len(dlist) and not found:\n",
    "        if dlist[pos] == item:\n",
    "            found = True\n",
    "        else:\n",
    "            pos = pos + 1\n",
    "    \n",
    "    return found, pos\n",
    "\n",
    "print(Sequential_Search([11,23,58,31,56,77,43,12,65,19],31))\n"
   ]
  },
  {
   "cell_type": "code",
   "execution_count": 30,
   "id": "eba3781d-1a44-403d-9134-da030b0201ff",
   "metadata": {},
   "outputs": [
    {
     "name": "stdout",
     "output_type": "stream",
     "text": [
      "Suppose you are a computer scientist/art thief who has broken into a major art gallery. All you have with you to haul out your stolen art is your knapsack which only holds W pounds of art, but for every piece of art you know its value and its weight. Write a dynamic programming function to help you maximize your profit. Here is a sample problem for you to use to get started: Suppose your knapsack can hold a total weight of 20. You have 5 items as follows:\n",
      "8\n"
     ]
    }
   ],
   "source": [
    "#Part 2\n",
    "print (\"Suppose you are a computer scientist/art thief who has broken into a major art gallery. All you have with you to haul out your stolen art is your knapsack which only holds W pounds of art, but for every piece of art you know its value and its weight. Write a dynamic programming function to help you maximize your profit. Here is a sample problem for you to use to get started: Suppose your knapsack can hold a total weight of 20. You have 5 items as follows:\")\n",
    "\n",
    "def knapSack(W, wt, val, n):\n",
    "\n",
    "    \n",
    "    if n == 0 or W == 0:\n",
    "        return 0\n",
    "\n",
    "\n",
    "    if (wt[n-1] > W):\n",
    "        return knapSack(W, wt, val, n-1)\n",
    "\n",
    "    else:\n",
    "        return max(\n",
    "            val[n-1] + knapSack(\n",
    "                W-wt[n-1], wt, val, n-1),\n",
    "                knapSack(W, wt, val, n-1))\n",
    "\n",
    "val = [3, 4, 8,8,10]\n",
    "wt = [2, 3, 4,5,9]\n",
    "W = 5\n",
    "n = len(val)\n",
    "print (knapSack(W, wt, val, n))\n"
   ]
  },
  {
   "cell_type": "code",
   "execution_count": null,
   "id": "bc1e409d-399d-461d-8b5f-599c61b2b4e6",
   "metadata": {},
   "outputs": [],
   "source": []
  }
 ],
 "metadata": {
  "kernelspec": {
   "display_name": "Python 3",
   "language": "python",
   "name": "python3"
  },
  "language_info": {
   "codemirror_mode": {
    "name": "ipython",
    "version": 3
   },
   "file_extension": ".py",
   "mimetype": "text/x-python",
   "name": "python",
   "nbconvert_exporter": "python",
   "pygments_lexer": "ipython3",
   "version": "3.9.4"
  }
 },
 "nbformat": 4,
 "nbformat_minor": 5
}
